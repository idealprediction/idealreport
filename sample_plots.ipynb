{
 "cells": [
  {
   "cell_type": "code",
   "execution_count": 1,
   "metadata": {
    "collapsed": true
   },
   "outputs": [],
   "source": [
    "import os\n",
    "\n",
    "from pandas import DataFrame, date_range\n",
    "import numpy as np\n",
    "\n",
    "from idealreport.settings import load_settings\n",
    "from idealreport import create_html\n",
    "from idealreport.reporter import Reporter\n",
    "import htmltag"
   ]
  },
  {
   "cell_type": "code",
   "execution_count": 2,
   "metadata": {},
   "outputs": [],
   "source": [
    "# load settings from settings.hjson\n",
    "settings = load_settings()\n",
    "\n",
    "# instantiate reporter object and set output location\n",
    "output_file = os.path.join(settings['output_path'], 'sample_plots.html')\n",
    "r = Reporter(title='Sample Plots', output_file=output_file)\n",
    "\n",
    "# report start\n",
    "r.h += htmltag.h3('This report provides an overview of the different plot types.')"
   ]
  },
  {
   "cell_type": "code",
   "execution_count": 3,
   "metadata": {},
   "outputs": [
    {
     "data": {
      "text/plain": [
       "{'data': [{'df':             Stat 1    Stat 2\n",
       "   Entity                      \n",
       "   Entity 3  1.183069  0.891145\n",
       "   Entity 5  0.623211  1.838676\n",
       "   Entity 1  0.182284 -0.931104\n",
       "   Entity 2 -0.396161 -0.070686\n",
       "   Entity 4 -1.035964 -0.306904, 'orientation': 'v', 'type': 'bar'}],\n",
       " 'markers': [{'color': 'rgb(49, 105, 196)'}, {'color': 'rgb(195, 197, 201)'}],\n",
       " 'title': 'Vertical Bar Chart',\n",
       " 'x': {'label': 'Entity'},\n",
       " 'y': {'label': '%'}}"
      ]
     },
     "execution_count": 3,
     "metadata": {},
     "output_type": "execute_result"
    }
   ],
   "source": [
    "# vertical bar chart\n",
    "\n",
    "ch = DataFrame({'Entity': ['Entity 1', 'Entity 2', 'Entity 3', 'Entity 4', 'Entity 5'],\n",
    "                  'Stat 1': np.random.randn(5).tolist(),\n",
    "                  'Stat 2': np.random.randn(5).tolist(),\n",
    "                })\n",
    "\n",
    "# note the x values are generally assumed to be in the index, with each non index column being a series of y values\n",
    "# a few exceptions are outlined below\n",
    "ch = ch.set_index('Entity')\n",
    "ch = ch.sort_values(by='Stat 1', ascending=False)\n",
    "\n",
    "# color choices for bars\n",
    "markers = [\n",
    "    dict(color = 'rgb(49, 105, 196)'),\n",
    "    dict(color = 'rgb(195, 197, 201)')\n",
    "]\n",
    "\n",
    "r.h += htmltag.h4('Bar Charts')\n",
    "\n",
    "# plotting calls are of the form r.plot.plot_type\n",
    "# a look through the plotter class in reporter.py will show the available plot types and arguments for each\n",
    "# in all single plot type cases, the only required argument is df, though for multi a types array with plot types is also required\n",
    "r.plot.bar(df=ch, title='Vertical Bar Chart', xlabel='Entity', ylabel='%', markers=markers,)"
   ]
  },
  {
   "cell_type": "code",
   "execution_count": 4,
   "metadata": {},
   "outputs": [
    {
     "data": {
      "text/plain": [
       "{'data': [{'df':                                  Foo         Bar\n",
       "   Entity                                          \n",
       "   Entity 1                   31.322985   66.191138\n",
       "   Entity 2                  194.987613  147.660242\n",
       "   Entity 3aaaaaaaaaaaaaaaa   94.302829  136.662043\n",
       "   Entity 4                  227.417545    8.358532\n",
       "   Entity 5                   51.465991  273.755179,\n",
       "   'orientation': 'h',\n",
       "   'type': 'stackedBar'}],\n",
       " 'layout': {'margin': {'l': 150}},\n",
       " 'markers': [{'color': 'rgb(49, 105, 196)'}, {'color': 'rgb(195, 197, 201)'}],\n",
       " 'title': 'Horizontal Stacked Bar Chart',\n",
       " 'x': {'label': '$'}}"
      ]
     },
     "execution_count": 4,
     "metadata": {},
     "output_type": "execute_result"
    }
   ],
   "source": [
    "# stacked horizontal bar chart, notice additional entry in the data field for orientation\n",
    "\n",
    "ch = DataFrame({'Entity': ['Entity 1', 'Entity 2', 'Entity 3aaaaaaaaaaaaaaaa', 'Entity 4', 'Entity 5'],\n",
    "                'Foo': np.random.randn(5).tolist(),\n",
    "                'Bar': np.random.randn(5).tolist(),\n",
    "               })\n",
    "ch = ch.set_index('Entity')\n",
    "ch = ch[['Foo', 'Bar']] # make sure columns have desired order\n",
    "\n",
    "markers = [\n",
    "    dict(color = 'rgb(49, 105, 196)'),\n",
    "    dict(color = 'rgb(195, 197, 201)')\n",
    "]\n",
    "\n",
    "# stacked bars behave oddly with mixed positive / negative numbers, so only use when all numbers are positive or negative within a series\n",
    "ch = ch.abs()\n",
    "ch = ch*100\n",
    "\n",
    "# all reporter plots take a layout argument which allows you to specify any element that would appear in plotly's api\n",
    "# here we're adjusting the left margin of the graph (layout['margin']['l']) to 150 to make room for the long Entity 3 name.\n",
    "r.plot.barh(df=ch, title='Horizontal Stacked Bar Chart', stacked=True, xlabel='$', markers=markers, layout={'margin':{'l':150}})"
   ]
  },
  {
   "cell_type": "code",
   "execution_count": 5,
   "metadata": {},
   "outputs": [
    {
     "data": {
      "text/plain": [
       "{'data': [{'df':                Foo       Bar\n",
       "   Entity                      \n",
       "   Entity 1  0.014073  0.135831\n",
       "   Entity 2 -0.769031 -2.317524\n",
       "   Entity 3 -0.547689 -1.341522\n",
       "   Entity 4  0.262557 -0.390635\n",
       "   Entity 5 -0.698583  1.238023, 'orientation': 'v', 'type': 'overlayBar'}],\n",
       " 'markers': [{'color': 'rgb(195, 197, 201)'}, {'color': 'rgb(49, 105, 196)'}],\n",
       " 'opacities': [0.6, 1],\n",
       " 'title': 'Vertical Overlay Bar Chart',\n",
       " 'widths': [0.4, 0.2],\n",
       " 'x': {'label': '$'}}"
      ]
     },
     "execution_count": 5,
     "metadata": {},
     "output_type": "execute_result"
    }
   ],
   "source": [
    "# horizontal overlay bar chart\n",
    "\n",
    "ch = DataFrame({'Entity': ['Entity 1', 'Entity 2', 'Entity 3', 'Entity 4', 'Entity 5'],\n",
    "                'Foo': np.random.randn(5).tolist(),\n",
    "                'Bar': np.random.randn(5).tolist(),\n",
    "               })\n",
    "ch = ch.set_index('Entity')\n",
    "ch = ch[['Foo', 'Bar']] # make sure columns have desired order\n",
    "\n",
    "markers = [\n",
    "    dict(color = 'rgb(195, 197, 201)'),\n",
    "    dict(color = 'rgb(49, 105, 196)'),\n",
    "]\n",
    "\n",
    "# bar charts take in an argument called width which determines the size of the bars\n",
    "# for line charts, shown below, this is controlled by an entry in the lines dict for width\n",
    "# for scatter plots, this is controlled by an entry in the markers dict for size\n",
    "widths = [.4, .2]\n",
    "\n",
    "# the overlay bar charts also takes opacity an argument,\n",
    "# generally the \"focus\" bar should be the second column so that it is drawn over the first bar\n",
    "opacities = [.6, 1]\n",
    "\n",
    "r.plot.baro(df=ch, title='Vertical Overlay Bar Chart', orientation='v', xlabel='$', markers=markers, widths=widths, opacities=opacities)"
   ]
  },
  {
   "cell_type": "code",
   "execution_count": 6,
   "metadata": {},
   "outputs": [
    {
     "data": {
      "text/plain": [
       "{'data': [{'df':          Bar       Foo\n",
       "   0   3.073037  0.904087\n",
       "   1   1.473410  1.015603\n",
       "   2   2.577424  0.700009\n",
       "   3   0.819632 -1.231333\n",
       "   4   1.132809 -0.197329\n",
       "   5   0.427007  0.533504\n",
       "   6   2.136522 -0.412389\n",
       "   7  -0.093505  0.220879\n",
       "   8   2.167225 -0.453532\n",
       "   9   0.881848 -1.738121\n",
       "   10  2.158311 -1.023290\n",
       "   11  1.429552 -0.804124\n",
       "   12  2.176125 -1.135443\n",
       "   13  0.855590  1.878641\n",
       "   14  0.592761  1.358759\n",
       "   15  3.017704 -0.565086\n",
       "   16  2.765584  2.052057\n",
       "   17  1.369307  1.496466\n",
       "   18  1.598849  0.303340\n",
       "   19  2.788679 -0.615061\n",
       "   20  1.092686 -2.836726\n",
       "   21 -0.116466 -0.366771\n",
       "   22  1.870622  0.046790\n",
       "   23  3.386059  1.559299\n",
       "   24  1.280819 -1.819805\n",
       "   25  1.797441  0.900713\n",
       "   26  1.567624  0.090130\n",
       "   27  2.792769 -1.829891\n",
       "   28  1.540394 -1.315953\n",
       "   29  2.019702 -2.228283\n",
       "   30  1.707993 -0.046544\n",
       "   31  1.954276  0.260083\n",
       "   32  1.286379  0.929812\n",
       "   33  1.842721  2.665109\n",
       "   34  1.778914  0.563152\n",
       "   35  2.679064  0.166228\n",
       "   36  1.344468  0.528419\n",
       "   37  3.240994  1.953107\n",
       "   38  3.405496 -1.352349\n",
       "   39  0.951713  2.510314\n",
       "   40 -0.376227  0.912050\n",
       "   41  1.517029  0.678193\n",
       "   42  4.196167  1.389718\n",
       "   43  1.551886 -2.761966\n",
       "   44  0.938863 -0.464555\n",
       "   45  0.283833  0.528771\n",
       "   46  2.485159 -0.220928\n",
       "   47  2.201354  0.093505\n",
       "   48  0.628383  0.949044\n",
       "   49  3.358727 -2.177080, 'type': 'histogram'}],\n",
       " 'markers': [{'color': 'rgb(49, 105, 196)'}, {'color': 'rgb(195, 197, 201)'}],\n",
       " 'title': 'Histogram',\n",
       " 'y': {'label': 'Observations'}}"
      ]
     },
     "execution_count": 6,
     "metadata": {},
     "output_type": "execute_result"
    }
   ],
   "source": [
    "# histogram, note that we don't use the index for x values here because there is no x value other than the series\n",
    "\n",
    "ch = DataFrame({'Foo': np.random.randn(50).tolist(),\n",
    "                'Bar': np.random.randn(50).tolist(),\n",
    "               })\n",
    "# offset Bar so that there's two different distros to observe\n",
    "ch['Bar'] = ch['Bar'] + 2\n",
    "\n",
    "markers = [\n",
    "    dict(color = 'rgb(49, 105, 196)'),\n",
    "    dict(color = 'rgb(195, 197, 201)')\n",
    "]\n",
    "\n",
    "r.plot.histo(df=ch, title='Histogram', ylabel='Observations', markers=markers)"
   ]
  },
  {
   "cell_type": "code",
   "execution_count": 7,
   "metadata": {},
   "outputs": [
    {
     "data": {
      "text/plain": [
       "{'data': [{'df':            b         c\n",
       "   a                     \n",
       "   0   0.990402  1.632861\n",
       "   1   0.481092  0.024608\n",
       "   2  -1.318514 -1.331186\n",
       "   3   0.703543  0.478658\n",
       "   4  -0.814278 -0.853375\n",
       "   5   1.160725 -0.717977\n",
       "   6   0.892805  1.026317\n",
       "   7  -0.478367  0.571194\n",
       "   8   0.145783 -0.680056\n",
       "   9   2.383244 -1.916373\n",
       "   10  0.780324 -0.215694\n",
       "   11 -0.632555 -0.756455\n",
       "   12  0.314141 -1.027768\n",
       "   13  0.101850 -0.045293\n",
       "   14 -0.318608 -0.687100\n",
       "   15 -1.731567 -0.126542\n",
       "   16 -0.867152 -0.106821\n",
       "   17 -0.038730 -1.369861\n",
       "   18  0.111096  2.769952\n",
       "   19  0.214725 -0.559248, 'type': 'line'}],\n",
       " 'lines': [{'color': 'rgb(49, 105, 196)', 'width': 7},\n",
       "  {'color': 'rgb(195, 197, 201)', 'width': 3}],\n",
       " 'title': 'Line Chart',\n",
       " 'x': {'label': 'Entity'},\n",
       " 'y': {'label': '%'}}"
      ]
     },
     "execution_count": 7,
     "metadata": {},
     "output_type": "execute_result"
    }
   ],
   "source": [
    "# line chart\n",
    "\n",
    "ch = DataFrame(np.random.randn(20, 3))\n",
    "ch.columns = ['a', 'b', 'c']\n",
    "ch.a = range(20)\n",
    "ch = ch.set_index('a')\n",
    "\n",
    "# as mentioned above, the lines are governed by a lines attribute instead of markers, width is set in the dict\n",
    "lines = [\n",
    "    dict(width = 7, color = 'rgb(49, 105, 196)'),\n",
    "    dict(width = 3, color = 'rgb(195, 197, 201)')\n",
    "]\n",
    "\n",
    "r.h += htmltag.h4('Line Charts')\n",
    "r.plot.line(df=ch, title='Line Chart', xlabel='Entity', ylabel='%', lines=lines)"
   ]
  },
  {
   "cell_type": "code",
   "execution_count": 8,
   "metadata": {},
   "outputs": [
    {
     "data": {
      "text/plain": [
       "{'data': [{'df':                             a         b\n",
       "   2017-11-02 09:00:00 -0.709932  0.393868\n",
       "   2017-11-02 09:01:00  0.459014  1.484748\n",
       "   2017-11-02 09:02:00 -0.345662 -0.243558\n",
       "   2017-11-02 09:03:00  0.343510 -0.136734\n",
       "   2017-11-02 09:04:00 -0.337133  1.180340\n",
       "   2017-11-02 09:05:00 -0.408412 -1.430739\n",
       "   2017-11-02 09:06:00  1.022540 -1.064204\n",
       "   2017-11-02 09:07:00 -0.610088  0.431854\n",
       "   2017-11-02 09:08:00  0.219384  0.143303\n",
       "   2017-11-02 09:09:00  0.054792  0.359751\n",
       "   2017-11-02 09:10:00  0.567646 -1.514159\n",
       "   2017-11-02 09:11:00  1.668475  0.195816\n",
       "   2017-11-02 09:12:00  0.201720  0.662347\n",
       "   2017-11-02 09:13:00 -0.733905  0.500265\n",
       "   2017-11-02 09:14:00  0.335266  0.294612\n",
       "   2017-11-02 09:15:00  0.483769 -0.158266\n",
       "   2017-11-02 09:16:00 -0.455206 -1.348918\n",
       "   2017-11-02 09:17:00 -1.314095 -0.593311\n",
       "   2017-11-02 09:18:00 -0.271803 -0.253321\n",
       "   2017-11-02 09:19:00 -0.667933  1.972306, 'type': 'line'}],\n",
       " 'lines': [{'color': 'rgb(49, 105, 196)', 'width': 7},\n",
       "  {'color': 'rgb(195, 197, 201)', 'width': 3}],\n",
       " 'title': 'Time Series',\n",
       " 'x': {'label': 'Time'},\n",
       " 'y': {'label': '%'}}"
      ]
     },
     "execution_count": 8,
     "metadata": {},
     "output_type": "execute_result"
    }
   ],
   "source": [
    "# time series\n",
    "\n",
    "ind = date_range('2017-11-02 9:00', periods=20, freq='T')\n",
    "ch = DataFrame(data=np.random.randn(20,2), index=ind)\n",
    "ch.columns = ['a', 'b']\n",
    "\n",
    "lines = [\n",
    "    dict(width = 7, color = 'rgb(49, 105, 196)'),\n",
    "    dict(width = 3, color = 'rgb(195, 197, 201)')\n",
    "]\n",
    "\n",
    "# just like a regular line except the index is timestamps\n",
    "r.plot.time(df=ch, title='Time Series', xlabel='Time', ylabel='%', lines=lines)"
   ]
  },
  {
   "cell_type": "code",
   "execution_count": 9,
   "metadata": {},
   "outputs": [
    {
     "data": {
      "text/plain": [
       "{'data': [{'df':                   b         c\n",
       "   a                            \n",
       "    1.144012 -2.177856  0.609624\n",
       "   -2.291964 -0.277785 -0.542865\n",
       "   -1.194985 -0.067735  1.072220\n",
       "    0.285138 -0.534796  0.106205\n",
       "    0.906407  0.351988 -0.390174\n",
       "    0.154964 -0.746625 -0.646705\n",
       "   -0.089955 -0.168454 -0.799726\n",
       "    1.253099  0.873778 -0.678101\n",
       "   -0.109073  0.215700  0.606628\n",
       "   -0.174019 -0.845089 -0.311641\n",
       "    0.148059  0.127886  0.372320\n",
       "    0.614554 -0.700881  1.687844\n",
       "   -0.713188 -1.974645 -0.273551\n",
       "   -1.461865 -0.345786  0.193840\n",
       "   -0.208409  1.610228  0.000320\n",
       "   -0.465931 -0.464113  0.864026\n",
       "    0.573212 -0.535887  0.022201\n",
       "    0.898636  0.245686 -1.903328\n",
       "   -0.102525  0.093603  0.058836\n",
       "   -1.009491 -1.682843 -2.114481, 'type': 'scatter'}],\n",
       " 'layout': {'font': {'color': '#77797c', 'family': 'Arial'},\n",
       "  'height': 500,\n",
       "  'showlegend': False,\n",
       "  'width': 500,\n",
       "  'xaxis': {'hoverformat': '.2f',\n",
       "   'showgrid': False,\n",
       "   'showline': False,\n",
       "   'tickcolor': '#acadaf',\n",
       "   'ticks': 'outside',\n",
       "   'zerolinecolor': '#acadaf'},\n",
       "  'yaxis': {'hoverformat': '.2f',\n",
       "   'linewidth': 10,\n",
       "   'showgrid': False,\n",
       "   'showline': False,\n",
       "   'tickcolor': '#acadaf',\n",
       "   'ticks': '',\n",
       "   'zeroline': True,\n",
       "   'zerolinecolor': '#acadaf'}},\n",
       " 'markers': [{'color': 'rgb(49, 105, 196)', 'size': 7},\n",
       "  {'color': 'rgb(195, 197, 201)', 'size': 3}],\n",
       " 'title': 'Scatter Plot',\n",
       " 'x': {'label': 'alpha'},\n",
       " 'y': {'label': 'beta'}}"
      ]
     },
     "execution_count": 9,
     "metadata": {},
     "output_type": "execute_result"
    }
   ],
   "source": [
    "# scatter plot\n",
    "\n",
    "ch = DataFrame(np.random.randn(20, 3))\n",
    "ch.columns = ['a', 'b', 'c']\n",
    "ch = ch.set_index('a')\n",
    "\n",
    "# marker sizes can also be set like the line widths, though the parameter name is different\n",
    "markers = [\n",
    "    dict(size = 7, color = 'rgb(49, 105, 196)'),\n",
    "    dict(size = 3, color = 'rgb(195, 197, 201)')\n",
    "]\n",
    "\n",
    "# example of a more customized layout\n",
    "layout = dict(font=dict(family='Arial', color='#77797c'),\n",
    "    xaxis=dict(\n",
    "        showgrid=False,\n",
    "        showline=False,\n",
    "        zerolinecolor='#acadaf',\n",
    "        ticks='outside',\n",
    "        tickcolor='#acadaf',\n",
    "        hoverformat='.2f',\n",
    "    ),\n",
    "    yaxis=dict(\n",
    "        showgrid=False,\n",
    "        zeroline=True,\n",
    "        showline=False,\n",
    "        zerolinecolor='#acadaf',\n",
    "        linewidth=10,\n",
    "        ticks='',\n",
    "        tickcolor='#acadaf',\n",
    "        hoverformat='.2f',\n",
    "    ),\n",
    "    width=500,\n",
    "    height=500,\n",
    "    showlegend=False,\n",
    ")\n",
    "\n",
    "r.h += htmltag.h4('Scatter Plots')\n",
    "r.plot.scatter(df=ch, title='Scatter Plot', xlabel='alpha', ylabel='beta', markers=markers, layout=layout)"
   ]
  },
  {
   "cell_type": "code",
   "execution_count": 10,
   "metadata": {},
   "outputs": [
    {
     "data": {
      "text/plain": [
       "{'data': [{'data_static': {'mode': 'markers+text',\n",
       "    'orientation': 'h',\n",
       "    'textposition': 'top'},\n",
       "   'data_to_iterate': {'text': ['a', 'b', 'c', 'd', 'e']},\n",
       "   'df':           a         b         c         d         e\n",
       "   0  4.343641  4.993759  5.960554  5.234805  5.625695,\n",
       "   'type': 'scatter'}],\n",
       " 'layout': {'autosize': False,\n",
       "  'height': 250,\n",
       "  'showlegend': False,\n",
       "  'width': 500,\n",
       "  'xaxis': {'autorange': True,\n",
       "   'showgrid': False,\n",
       "   'showline': False,\n",
       "   'showticklabels': True,\n",
       "   'tickcolor': '#acadaf',\n",
       "   'ticks': '',\n",
       "   'zerolinecolor': '#acadaf'},\n",
       "  'yaxis': {'autorange': True,\n",
       "   'autotick': False,\n",
       "   'linewidth': 10,\n",
       "   'showgrid': False,\n",
       "   'showline': False,\n",
       "   'showticklabels': False,\n",
       "   'zeroline': True,\n",
       "   'zerolinecolor': '#acadaf'}},\n",
       " 'title': 'Horizontal Univariate Plot',\n",
       " 'x': {'label': 'alpha'}}"
      ]
     },
     "execution_count": 10,
     "metadata": {},
     "output_type": "execute_result"
    }
   ],
   "source": [
    "# univariate plots\n",
    "# note these are just scatter plots with x or y values of 0 and the mode of markers+text (and accompanying text and text position)\n",
    "\n",
    "ch = DataFrame(np.random.randn(1,5))\n",
    "ch.columns = ['a', 'b', 'c', 'd', 'e']\n",
    "ch = ch + 5\n",
    "# note index (x) value is 0\n",
    "\n",
    "# here we use data_static, which has attributes which are the same across each trace (column of a df), note these can be arrays\n",
    "data_static={'mode':'markers+text', 'textposition':'right',}\n",
    "# here we use data_to_iterate, which has attributes which differ by trace (column of a df), note these must be arrays, but can be arrays of arrays or dicts\n",
    "data_to_iterate={'text':['a', 'b', 'c', 'd', 'e']}\n",
    "\n",
    "# for vertical univariate plots, turn off the xaxis autotick and set height/width appropriately\n",
    "layout = dict(\n",
    "    xaxis=dict(\n",
    "        autorange=True,\n",
    "        showgrid=False,\n",
    "        zeroline=True,\n",
    "        showline=False,\n",
    "        zerolinecolor='#acadaf',\n",
    "        linewidth=10,\n",
    "        autotick=False,\n",
    "        showticklabels=False        \n",
    "    ),\n",
    "    yaxis=dict(\n",
    "        autorange=True,\n",
    "        showgrid=False,\n",
    "        showline=False,\n",
    "        zerolinecolor='#acadaf',\n",
    "        ticks='',\n",
    "        tickcolor='#acadaf',\n",
    "        showticklabels=True\n",
    "    ),\n",
    "    autosize=False,\n",
    "    width=250,\n",
    "    height=500,\n",
    "    showlegend=False\n",
    ")\n",
    "\n",
    "r.plot.scatter(df=ch, title='Vertical Univariate Plot', xlabel='alpha', data_static=data_static, data_to_iterate=data_to_iterate, layout=layout)\n",
    "\n",
    "# flip xaxis / yaxis attriutes and height/width for horizontal version, pass through orientation flag to flip x and y values as well\n",
    "(layout['xaxis'], layout['yaxis']) = (layout['yaxis'], layout['xaxis'])\n",
    "(layout['width'], layout['height']) = (layout['height'], layout['width'])\n",
    "data_static.update({'orientation':'h', 'textposition':'top'})\n",
    "\n",
    "r.plot.scatter(df=ch, title='Horizontal Univariate Plot', xlabel='alpha', data_static=data_static, data_to_iterate=data_to_iterate, layout=layout)"
   ]
  },
  {
   "cell_type": "code",
   "execution_count": 11,
   "metadata": {},
   "outputs": [
    {
     "data": {
      "text/plain": [
       "{'data': [{'df':                  b1\n",
       "   a                  \n",
       "   -1.556704  0.338127\n",
       "   -1.526207 -0.399867\n",
       "   -1.203515  0.349654\n",
       "   -1.092345 -0.630430\n",
       "   -0.864434  0.319077\n",
       "   -0.774115 -1.413352\n",
       "   -0.758220 -0.119254\n",
       "   -0.644360 -0.457629\n",
       "   -0.613573  0.502287\n",
       "   -0.600446 -0.450095\n",
       "   -0.335596 -1.354252\n",
       "   -0.216962 -0.255778\n",
       "   -0.063051 -1.238890\n",
       "    0.039131 -0.831818\n",
       "    0.109765  0.089989\n",
       "    0.202463  1.002452\n",
       "    0.315407 -0.200002\n",
       "    0.507911 -0.436506\n",
       "    0.632426  0.886987\n",
       "    1.388573  0.051769, 'type': 'line'}, {'df':                  b2\n",
       "   a                  \n",
       "   -1.745183  1.294786\n",
       "   -1.428685 -0.834645\n",
       "   -1.089194 -2.106651\n",
       "   -1.072974 -0.006109\n",
       "   -0.819255  2.033608\n",
       "   -0.770045  0.545413\n",
       "   -0.556767  1.601609\n",
       "   -0.368161  0.181634\n",
       "   -0.294978 -2.097888\n",
       "   -0.189504 -0.023087\n",
       "   -0.144621  0.690123\n",
       "   -0.139089 -0.028018\n",
       "    0.223583  0.706060\n",
       "    0.537057  1.619831\n",
       "    0.643247  1.016048\n",
       "    0.716212 -1.371661\n",
       "    1.027602 -0.085792\n",
       "    1.043342  1.504166\n",
       "    1.331450 -0.362710\n",
       "    1.342199  0.361472, 'type': 'bar'}],\n",
       " 'lines': [[{'color': 'rgb(49, 105, 196)'}], None],\n",
       " 'markers': [None, [{'color': 'rgb(195, 197, 201)'}]],\n",
       " 'title': 'Mixed Line and Bar Plot',\n",
       " 'x': {'label': 'x label'},\n",
       " 'y': {'label': 'y label'}}"
      ]
     },
     "execution_count": 11,
     "metadata": {},
     "output_type": "execute_result"
    }
   ],
   "source": [
    "# mixed plot types on one graph\n",
    "\n",
    "ch1 = DataFrame(np.random.randn(20, 2))\n",
    "ch1.columns = ['a', 'b1']\n",
    "ch1.sort_values(by='a', ascending=True, inplace=True)\n",
    "ch1 = ch1.set_index('a')\n",
    "\n",
    "ch2 = DataFrame(np.random.randn(20, 2))\n",
    "ch2.columns = ['a', 'b2']\n",
    "ch2.sort_values(by='a', ascending=True, inplace=True)\n",
    "ch2 = ch2.set_index('a')\n",
    "\n",
    "# set lines attributes, which should have an appropriate entry for each chart type passed through\n",
    "# note the None second element corresponding to the bar chart which doesn't need a lines attribute\n",
    "lines = [[dict(color = 'rgb(49, 105, 196)')],None]\n",
    "\n",
    "# set markers attributes, which should have an appropriate entry for each chart type passed through\n",
    "# note the leading None element corresponding to the line chart which doesn't need a markers attribute\n",
    "markers = [None,[dict(color = 'rgb(195, 197, 201)')]]\n",
    "\n",
    "r.h += htmltag.h4('Mixed Type Plots')\n",
    "r.plot.multi(dfs=[ch1, ch2], types=['line', 'bar'], title='Mixed Line and Bar Plot', xlabel='x label', ylabel='y label', lines=lines, markers=markers)"
   ]
  },
  {
   "cell_type": "code",
   "execution_count": 12,
   "metadata": {},
   "outputs": [
    {
     "data": {
      "text/plain": [
       "{'data': [{'df':            a\n",
       "   x           \n",
       "   0   0.777716\n",
       "   1  -1.195198\n",
       "   2   0.485539\n",
       "   3  -1.419560\n",
       "   4  -0.625303\n",
       "   5   1.188285\n",
       "   6  -0.127215\n",
       "   7  -2.465663\n",
       "   8   1.651970\n",
       "   9  -0.365875\n",
       "   10 -0.609638\n",
       "   11 -0.477852\n",
       "   12 -0.495180\n",
       "   13 -2.038578\n",
       "   14  0.187433\n",
       "   15  1.055543\n",
       "   16 -1.828510\n",
       "   17  0.178395\n",
       "   18 -0.241278\n",
       "   19 -0.754175, 'type': 'line', 'y2': False}, {'df':              b\n",
       "   x             \n",
       "   0    27.696337\n",
       "   1   -44.669625\n",
       "   2     8.586555\n",
       "   3   153.486705\n",
       "   4  -114.827079\n",
       "   5    24.244918\n",
       "   6   232.502448\n",
       "   7   -16.179824\n",
       "   8   -92.102167\n",
       "   9    84.565841\n",
       "   10   88.384751\n",
       "   11   63.444970\n",
       "   12  180.494609\n",
       "   13   28.815288\n",
       "   14  145.659864\n",
       "   15   12.591084\n",
       "   16   56.879621\n",
       "   17  -54.504108\n",
       "   18 -107.513047\n",
       "   19  112.373336, 'type': 'line', 'y2': True}],\n",
       " 'layout': {'legend': {'orientation': 'h', 'x': 0.8, 'y': -0.1}},\n",
       " 'title': 'Lines with Different Y Axes',\n",
       " 'x': {'label': 'x'},\n",
       " 'y': {'label': 'ya'},\n",
       " 'y2': {'label': 'yb'}}"
      ]
     },
     "execution_count": 12,
     "metadata": {},
     "output_type": "execute_result"
    }
   ],
   "source": [
    "# different axes\n",
    "\n",
    "ch1 = DataFrame(np.random.randn(20, 2))\n",
    "ch1.columns = ['x', 'a']\n",
    "ch1.x = range(20)\n",
    "ch1 = ch1.set_index('x')\n",
    "\n",
    "ch2 = DataFrame(np.random.randn(20, 2))\n",
    "ch2.columns = ['x', 'b']\n",
    "ch2.x = range(20)\n",
    "ch2 = ch2.set_index('x')\n",
    "ch2.b *= 100\n",
    "\n",
    "# given the y2 axis, move the legend to the bottom of the plot\n",
    "layout={'legend':{'orientation':'h', 'x':0.8, 'y':-0.1}}\n",
    "\n",
    "# y2_axis is a list of booleans indicating whether each df should be tied to the y2 axis or not\n",
    "r.plot.multi(dfs=[ch1, ch2], types=['line', 'line'], title='Lines with Different Y Axes', xlabel='x', ylabel='ya', y2_axis=[False,True], y2label='yb', layout=layout)"
   ]
  },
  {
   "cell_type": "code",
   "execution_count": 13,
   "metadata": {},
   "outputs": [
    {
     "data": {
      "text/plain": [
       "{'data': [{'df':             open      high       low     close\n",
       "   dealer                                        \n",
       "   0      -0.471603  3.717396 -3.078676 -0.083486\n",
       "   1      -0.571329  1.825175 -5.005782 -0.563960\n",
       "   2       2.346187  2.068748 -4.367850 -0.012152\n",
       "   3       0.005386  3.414091 -2.778425  0.818738, 'type': 'ohlc'}],\n",
       " 'name': '',\n",
       " 'title': 'OHLC Plot by Reporter',\n",
       " 'x': {'label': 'price'},\n",
       " 'y': {'label': 'instrument'}}"
      ]
     },
     "execution_count": 13,
     "metadata": {},
     "output_type": "execute_result"
    }
   ],
   "source": [
    "# ohlc\n",
    "\n",
    "ch = DataFrame(np.random.randn(4, 4))\n",
    "ch.columns = ['open', 'high', 'low', 'close']\n",
    "ch['high'] = ch['high'] + 3\n",
    "ch['low'] = ch['low'] - 3\n",
    "\n",
    "ch['dealer'] = range(4)\n",
    "ch = ch.set_index('dealer')\n",
    "\n",
    "r.h += htmltag.h4('Open High Low Close (OHCL) Plot')\n",
    "r.plot.ohlc(df=ch, title='OHLC Plot by Reporter', xlabel='price', ylabel='instrument')"
   ]
  },
  {
   "cell_type": "code",
   "execution_count": 14,
   "metadata": {},
   "outputs": [
    {
     "data": {
      "text/plain": [
       "{'data': [{'df':           0\n",
       "   Factor 0  1\n",
       "   Factor 1  2\n",
       "   Factor 2  3\n",
       "   Factor 3  4, 'hole': 0.4, 'type': 'pie'}],\n",
       " 'layout': {'height': 300},\n",
       " 'title': 'Donut'}"
      ]
     },
     "execution_count": 14,
     "metadata": {},
     "output_type": "execute_result"
    }
   ],
   "source": [
    "# pie\n",
    "\n",
    "ch = DataFrame(data=[1,2,3,4], index=['Factor %s' % x for x in range(4)])\n",
    "\n",
    "r.h += htmltag.h4('Pie Charts')\n",
    "r.plot.pie(df=ch, title='Pie')\n",
    "\n",
    "layout = {'height':300}\n",
    "\n",
    "# only difference for a donut is the hole argument\n",
    "r.plot.pie(df=ch, title='Donut', hole=.4, layout=layout)"
   ]
  },
  {
   "cell_type": "code",
   "execution_count": 15,
   "metadata": {},
   "outputs": [
    {
     "data": {
      "text/plain": [
       "{'data': [{'df':                   y        e1        e2\n",
       "   x                                      \n",
       "    0.033498 -0.432750  0.185082  0.161364\n",
       "    0.705030 -0.176986  0.055781  0.047916\n",
       "    0.577655  0.448229  0.047247  0.029080\n",
       "   -0.099371 -0.663133  0.065437  0.033329\n",
       "   -1.211581  0.638346  0.221227  0.004522\n",
       "    0.493397  2.282158  0.065245  0.031686\n",
       "    1.791339  1.255547  0.204097  0.087693\n",
       "   -1.507846 -0.693120  0.193778  0.151070\n",
       "    2.561167 -0.751644  0.017517  0.016506\n",
       "    1.719107 -0.120300  0.040813  0.101391\n",
       "   -0.044097  1.263569  0.027598  0.089069\n",
       "   -0.374768 -1.127725  0.187264  0.080834\n",
       "    1.134644 -0.093139  0.204749  0.073417\n",
       "   -0.588315 -0.161157  0.092309  0.012966\n",
       "    1.200572  0.804095  0.114941  0.003133\n",
       "   -0.188030 -0.659842  0.040360  0.158333\n",
       "    0.495575 -0.190960  0.085785  0.044980\n",
       "    0.208484  0.410602  0.008812  0.000374\n",
       "    0.596538 -0.084695  0.109602  0.126610\n",
       "    0.102068  0.442582  0.208447  0.188481,\n",
       "   'errorBars': {'symmetric': False},\n",
       "   'type': 'scatter'}],\n",
       " 'title': 'Asymmetric Error Bars'}"
      ]
     },
     "execution_count": 15,
     "metadata": {},
     "output_type": "execute_result"
    }
   ],
   "source": [
    "# error bar charts\n",
    "\n",
    "ch = DataFrame(np.random.randn(20, 4))\n",
    "ch.columns = ['x','y','e1','e2']\n",
    "ch = ch.set_index('x')\n",
    "ch['e1'] = ch['e1'].abs()*0.1\n",
    "ch['e2'] = ch['e2'].abs()*0.1\n",
    "\n",
    "r.h += htmltag.h4('Error Bar Charts')\n",
    "# note only first 3 columns are used for symmetric error bars\n",
    "r.plot.errbar(df=ch, title='Symmetric Error Bars')\n",
    "\n",
    "# just add the flag symmetric=False, otherwise it defaults to True like in the call above\n",
    "r.plot.errbar(df=ch, title='Asymmetric Error Bars', symmetric=False)"
   ]
  },
  {
   "cell_type": "code",
   "execution_count": 16,
   "metadata": {},
   "outputs": [
    {
     "data": {
      "text/plain": [
       "{'data': [{'df':      mean  stdev\n",
       "   day             \n",
       "   1      15   1.00\n",
       "   2      13   2.00\n",
       "   3       7   1.30\n",
       "   4      18   1.00\n",
       "   5      19   2.50\n",
       "   6      24   0.50\n",
       "   7      25   1.50\n",
       "   8      28   0.75,\n",
       "   'fillcolor': 'rgba(0,100,80,0.2)',\n",
       "   'type': 'continuousErrorBars'}],\n",
       " 'title': 'Symmetric Error Bars'}"
      ]
     },
     "execution_count": 16,
     "metadata": {},
     "output_type": "execute_result"
    }
   ],
   "source": [
    "# error line plots\n",
    "\n",
    "ch = DataFrame({'day': ['1', '2', '3', '4', '5', '6', '7', '8'],\n",
    "                'mean': [15, 13, 7, 18, 19, 24, 25, 28],\n",
    "                'stdev': [1, 2, 1.3, 1, 2.5, .5, 1.5, .75]})\n",
    "ch = ch[['day', 'mean', 'stdev']] # make sure columns have desired order\n",
    "ch = ch.set_index('day')\n",
    "\n",
    "r.h += htmltag.h4('Error Line Plots')\n",
    "r.plot.errline(df=ch, title='Symmetric Error Bars')"
   ]
  },
  {
   "cell_type": "code",
   "execution_count": 17,
   "metadata": {},
   "outputs": [
    {
     "name": "stdout",
     "output_type": "stream",
     "text": [
      "saved report to /home/jason/ideal/reports/sample_report/output/sample_plots.html\n"
     ]
    }
   ],
   "source": [
    "# generate and save the report HTML\n",
    "r.generate()"
   ]
  },
  {
   "cell_type": "code",
   "execution_count": null,
   "metadata": {
    "collapsed": true
   },
   "outputs": [],
   "source": []
  }
 ],
 "metadata": {
  "kernelspec": {
   "display_name": "Python 2",
   "language": "python",
   "name": "python2"
  },
  "language_info": {
   "codemirror_mode": {
    "name": "ipython",
    "version": 2
   },
   "file_extension": ".py",
   "mimetype": "text/x-python",
   "name": "python",
   "nbconvert_exporter": "python",
   "pygments_lexer": "ipython2",
   "version": "2.7.13"
  }
 },
 "nbformat": 4,
 "nbformat_minor": 1
}
